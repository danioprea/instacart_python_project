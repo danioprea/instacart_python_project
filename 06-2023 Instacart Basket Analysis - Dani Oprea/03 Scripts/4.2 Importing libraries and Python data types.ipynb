{
 "cells": [
  {
   "cell_type": "markdown",
   "id": "164d3e15",
   "metadata": {},
   "source": [
    "Contents\n",
    "\n",
    "01. Importing Libraries\n",
    "02. Data Types"
   ]
  },
  {
   "cell_type": "markdown",
   "id": "defac8ce",
   "metadata": {},
   "source": [
    "# 01. Importing Libraries"
   ]
  },
  {
   "cell_type": "code",
   "execution_count": 1,
   "id": "a3571016",
   "metadata": {},
   "outputs": [],
   "source": [
    "# Import libraries"
   ]
  },
  {
   "cell_type": "code",
   "execution_count": 2,
   "id": "a0729d23",
   "metadata": {},
   "outputs": [],
   "source": [
    "import pandas as pd\n",
    "import numpy as np\n",
    "import os"
   ]
  },
  {
   "cell_type": "code",
   "execution_count": null,
   "id": "fb21e1e5",
   "metadata": {},
   "outputs": [],
   "source": []
  },
  {
   "cell_type": "markdown",
   "id": "8a3638fc",
   "metadata": {},
   "source": [
    "# 02. Data Types"
   ]
  },
  {
   "cell_type": "code",
   "execution_count": 3,
   "id": "ea8558ff",
   "metadata": {},
   "outputs": [
    {
     "data": {
      "text/plain": [
       "100"
      ]
     },
     "execution_count": 3,
     "metadata": {},
     "output_type": "execute_result"
    }
   ],
   "source": [
    "25 + 75"
   ]
  },
  {
   "cell_type": "code",
   "execution_count": 4,
   "id": "8763aaa7",
   "metadata": {},
   "outputs": [
    {
     "data": {
      "text/plain": [
       "100"
      ]
     },
     "execution_count": 4,
     "metadata": {},
     "output_type": "execute_result"
    }
   ],
   "source": [
    "134 - 34"
   ]
  },
  {
   "cell_type": "code",
   "execution_count": 5,
   "id": "8f2947bb",
   "metadata": {},
   "outputs": [
    {
     "data": {
      "text/plain": [
       "100"
      ]
     },
     "execution_count": 5,
     "metadata": {},
     "output_type": "execute_result"
    }
   ],
   "source": [
    "x = 25\n",
    "y = 75\n",
    "x + y"
   ]
  },
  {
   "cell_type": "code",
   "execution_count": null,
   "id": "34e20611",
   "metadata": {},
   "outputs": [],
   "source": []
  },
  {
   "cell_type": "code",
   "execution_count": 6,
   "id": "db2224ea",
   "metadata": {},
   "outputs": [
    {
     "data": {
      "text/plain": [
       "4.869565217391305"
      ]
     },
     "execution_count": 6,
     "metadata": {},
     "output_type": "execute_result"
    }
   ],
   "source": [
    "z = 16.8\n",
    "v = 3.45\n",
    "z/v"
   ]
  },
  {
   "cell_type": "code",
   "execution_count": null,
   "id": "0772c631",
   "metadata": {},
   "outputs": [],
   "source": []
  },
  {
   "cell_type": "code",
   "execution_count": 7,
   "id": "8b6f29f2",
   "metadata": {},
   "outputs": [
    {
     "data": {
      "text/plain": [
       "'Wow! Python is so cool!'"
      ]
     },
     "execution_count": 7,
     "metadata": {},
     "output_type": "execute_result"
    }
   ],
   "source": [
    "a = 'Wow! '\n",
    "b = 'Python is so cool!'\n",
    "a + b"
   ]
  },
  {
   "cell_type": "code",
   "execution_count": null,
   "id": "eb1f290e",
   "metadata": {},
   "outputs": [],
   "source": []
  },
  {
   "cell_type": "code",
   "execution_count": 8,
   "id": "6c5bd7b6",
   "metadata": {},
   "outputs": [
    {
     "data": {
      "text/plain": [
       "\"Python isn't so bad. Hopefully, I won't come to regret this statement.\""
      ]
     },
     "execution_count": 8,
     "metadata": {},
     "output_type": "execute_result"
    }
   ],
   "source": [
    "c = \"Python isn't so bad.\"\n",
    "d = \"Hopefully, I won't come to regret this statement.\"\n",
    "c + ' ' + d"
   ]
  },
  {
   "cell_type": "code",
   "execution_count": null,
   "id": "7952aba5",
   "metadata": {},
   "outputs": [],
   "source": []
  },
  {
   "cell_type": "code",
   "execution_count": 9,
   "id": "3c28d29b",
   "metadata": {},
   "outputs": [
    {
     "data": {
      "text/plain": [
       "'Wow! Wow! Wow! Wow! Wow! Wow! Wow! Wow! Wow! Wow! Wow! Wow! Wow! Wow! Wow! Wow! Wow! Wow! Wow! Wow! Wow! Wow! Wow! Wow! Wow! Wow! Wow! Wow! Wow! Wow! Wow! Wow! Wow! Wow! Wow! Wow! Wow! Wow! Wow! Wow! Wow! Wow! Wow! Wow! Wow! Wow! Wow! Wow! Wow! Wow! Wow! Wow! Wow! Wow! Wow! Wow! Wow! Wow! Wow! Wow! Wow! Wow! Wow! Wow! Wow! Wow! Wow! Wow! Wow! Wow! Wow! Wow! Wow! Wow! Wow! Wow! Wow! Wow! Wow! Wow! Wow! Wow! Wow! Wow! Wow! Wow! Wow! Wow! Wow! Wow! Wow! Wow! Wow! Wow! Wow! Wow! Wow! Wow! Wow! Wow! '"
      ]
     },
     "execution_count": 9,
     "metadata": {},
     "output_type": "execute_result"
    }
   ],
   "source": [
    "a*100"
   ]
  },
  {
   "cell_type": "code",
   "execution_count": null,
   "id": "011912ef",
   "metadata": {},
   "outputs": [],
   "source": []
  },
  {
   "cell_type": "code",
   "execution_count": null,
   "id": "55090737",
   "metadata": {},
   "outputs": [],
   "source": []
  }
 ],
 "metadata": {
  "kernelspec": {
   "display_name": "Python 3 (ipykernel)",
   "language": "python",
   "name": "python3"
  },
  "language_info": {
   "codemirror_mode": {
    "name": "ipython",
    "version": 3
   },
   "file_extension": ".py",
   "mimetype": "text/x-python",
   "name": "python",
   "nbconvert_exporter": "python",
   "pygments_lexer": "ipython3",
   "version": "3.9.13"
  }
 },
 "nbformat": 4,
 "nbformat_minor": 5
}
